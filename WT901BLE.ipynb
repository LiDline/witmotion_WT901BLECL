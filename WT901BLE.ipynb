{
 "cells": [
  {
   "cell_type": "code",
   "execution_count": 1,
   "metadata": {},
   "outputs": [],
   "source": [
    "import func.graph_settings as gs\n",
    "from func.start import start"
   ]
  },
  {
   "cell_type": "code",
   "execution_count": 2,
   "metadata": {},
   "outputs": [],
   "source": [
    "# При необходимости вызовите, чтобы узнать адрес датчика\n",
    "# device_search() # Если попросит что-то ввести, введите 1 и нажмите Enter"
   ]
  },
  {
   "cell_type": "code",
   "execution_count": 3,
   "metadata": {},
   "outputs": [],
   "source": [
    "device = ['bluetooth', 'DB:EE:85:7F:44:09']\n",
    "# device = ['usb', '/dev/ttyUSB0']  # Для Windows \"COM3\" или \"COM5\" или..."
   ]
  },
  {
   "cell_type": "code",
   "execution_count": 6,
   "metadata": {},
   "outputs": [],
   "source": [
    "fig = gs.graph_settings()\n",
    "fig"
   ]
  },
  {
   "cell_type": "code",
   "execution_count": 5,
   "metadata": {},
   "outputs": [
    {
     "name": "stdout",
     "output_type": "stream",
     "text": [
      "Connected: True.\n",
      "Идёт снятие данных. Для завершения нажмите Interrupt.\n",
      "Считывание завершено.\n",
      "Таблица, под именем \"WT901BLE_res.csv\", сохранена в папке проекта.\n"
     ]
    }
   ],
   "source": [
    "start(fig, # Запись графика, вызванного выше\n",
    "    device, # Ваше устройство, спиcок из [устройства считывания и MAC]\n",
    "    calibrate_gyr_and_acc = False, # Калибровка гиро и акселерометра: True/False\n",
    "    calibrate_magn = False, # Калибровка магнетрометра: True/False\n",
    "    algorithm_transition = None, # По умолчанию 9, советую сразу ставить 6\n",
    "    rate = None, # Частота считывания, для WT901BLE: 0.2, 0.5, 1, 2, 5, 10 (default), 20, 50 [Гц]\n",
    "    x_label_size = 50 # Кол-во точек на графике\n",
    "    ) "
   ]
  },
  {
   "cell_type": "code",
   "execution_count": null,
   "metadata": {},
   "outputs": [],
   "source": []
  }
 ],
 "metadata": {
  "kernelspec": {
   "display_name": ".venv",
   "language": "python",
   "name": "python3"
  },
  "language_info": {
   "codemirror_mode": {
    "name": "ipython",
    "version": 3
   },
   "file_extension": ".py",
   "mimetype": "text/x-python",
   "name": "python",
   "nbconvert_exporter": "python",
   "pygments_lexer": "ipython3",
   "version": "3.10.6"
  },
  "orig_nbformat": 4,
  "vscode": {
   "interpreter": {
    "hash": "1a6f8d208314ade79d3882f010a7346f3b0ee67c92c7d429538e67aa9664ebb4"
   }
  }
 },
 "nbformat": 4,
 "nbformat_minor": 2
}
